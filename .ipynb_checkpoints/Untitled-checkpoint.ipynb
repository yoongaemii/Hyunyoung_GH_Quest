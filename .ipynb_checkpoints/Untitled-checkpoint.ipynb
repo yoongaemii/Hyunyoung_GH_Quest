{
 "cells": [
  {
   "cell_type": "markdown",
   "metadata": {},
   "source": [
    "# Session 5. 데이터수집과 관리\n",
    "* 실습코드를 활용해서, 최근 일주일 간의 일일 박스오피스 50위까지의 데이터를 selenium 과 beautiful soup를 활용해서 가져오는 코드를 작성해주세요 ! \n",
    "* 가져온 데이터를 날짜별로 dataframe을 만든 후, sqlite3를 이용해 dailyboxoffice.db 형태로 저장해주세요.\n",
    "* db 안에는 날짜별로 나눠진 총 7개의 테이블이 포함되어 있어야 합니다. \n",
    "* 작성한 코드와 db 파일을 올려주시면 됩니다"
   ]
  },
  {
   "cell_type": "code",
   "execution_count": 1,
   "metadata": {},
   "outputs": [],
   "source": [
    "from bs4 import BeautifulSoup as bs\n",
    "from selenium import webdriver \n",
    "import time\n",
    "import requests\n",
    "from selenium.webdriver.common.keys import Keys"
   ]
  },
  {
   "cell_type": "code",
   "execution_count": null,
   "metadata": {},
   "outputs": [],
   "source": [
    "# get the daily box office from 2019-03-20 to 2019-03-27\n",
    "driver.get(\"http://www.kobis.or.kr/kobis/business/stat/boxs/findDailyBoxOfficeList.do?loadEnd=0&searchType=search&sSearchFrom=2019-03-20&sSearchTo=2019-03-27&sMultiMovieYn=&sRepNationCd=&sWideAreaCd=\")\n",
    "driver.implicitly_wait(3)"
   ]
  }
 ],
 "metadata": {
  "kernelspec": {
   "display_name": "Python 3",
   "language": "python",
   "name": "python3"
  },
  "language_info": {
   "codemirror_mode": {
    "name": "ipython",
    "version": 3
   },
   "file_extension": ".py",
   "mimetype": "text/x-python",
   "name": "python",
   "nbconvert_exporter": "python",
   "pygments_lexer": "ipython3",
   "version": "3.6.5"
  }
 },
 "nbformat": 4,
 "nbformat_minor": 2
}
